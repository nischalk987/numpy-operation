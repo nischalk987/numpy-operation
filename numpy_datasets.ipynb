{
 "cells": [
  {
   "cell_type": "code",
   "execution_count": 3,
   "id": "410617bf-d7a9-4ea2-bb0e-aa54b906ee98",
   "metadata": {},
   "outputs": [],
   "source": [
    "import numpy as np"
   ]
  },
  {
   "cell_type": "code",
   "execution_count": 2,
   "id": "03fd5007-71c3-4ff8-b739-6ee180ff8f2f",
   "metadata": {},
   "outputs": [],
   "source": [
    "# Rows: Donators (Donator1, Donator2, Donator3, Donator4)\n",
    "# Columns: Months (January, February, March)\n",
    "donations = np.array([\n",
    "    [10, 15, 20],   # Donator1\n",
    "    [5,  7,  9],    # Donator2\n",
    "    [12, 14, 16],   # Donator3\n",
    "    [20, 25, 30]    # Donator4\n",
    "])\n"
   ]
  },
  {
   "cell_type": "markdown",
   "id": "380e8779-a9ff-40b2-a474-9e640312a02b",
   "metadata": {},
   "source": [
    "# Question\n",
    "1. Calculate the total donation made by each donator.\n",
    "\n",
    "2. Find the total donations received in each month.\n",
    "\n",
    "3. Determine the average donation per donator.\n",
    "\n",
    "4. Identify the donator who contributed the most in March.\n",
    "\n",
    "5. Compute the percentage of total donations each donator made.\n",
    "\n",
    "6. Apply a 5% increase in all donations and get the updated dataset.\n",
    "\n",
    "7. Find months where Donator3 donated more than ₹13,000.\n",
    "\n",
    "8. Normalize the donation data per donator using min-max scaling."
   ]
  },
  {
   "cell_type": "code",
   "execution_count": 9,
   "id": "3cc872e8-c4be-41e8-bfed-d880367af690",
   "metadata": {},
   "outputs": [
    {
     "name": "stdout",
     "output_type": "stream",
     "text": [
      "total donation made by each donator :  [45 21 42 75]\n"
     ]
    }
   ],
   "source": [
    "sum_donator = np.sum(donations[:],axis=1)\n",
    "print(\"total donation made by each donator : \" , sum_donator)"
   ]
  },
  {
   "cell_type": "code",
   "execution_count": 12,
   "id": "f002bb14-7dd7-4777-af93-3ea773402c62",
   "metadata": {},
   "outputs": [
    {
     "name": "stdout",
     "output_type": "stream",
     "text": [
      "total donations received in each month:  [47 61 75]\n"
     ]
    }
   ],
   "source": [
    "sum_month = np.sum(donations[:],axis=0)\n",
    "print(\"total donations received in each month: \" , sum_month)"
   ]
  },
  {
   "cell_type": "code",
   "execution_count": 14,
   "id": "17ef92a7-cd9f-4490-b8a4-974e8cd729f5",
   "metadata": {},
   "outputs": [
    {
     "name": "stdout",
     "output_type": "stream",
     "text": [
      "average donation per donator:  [15.  7. 14. 25.]\n"
     ]
    }
   ],
   "source": [
    "avg_donator = np.mean(donations[:],axis=1)\n",
    "print(\"average donation per donator: \" , avg_donator)"
   ]
  },
  {
   "cell_type": "code",
   "execution_count": 16,
   "id": "8f9278df-45db-4a64-8b7d-5f48680b67a7",
   "metadata": {},
   "outputs": [
    {
     "name": "stdout",
     "output_type": "stream",
     "text": [
      "donator who contributed the most in March: 30\n"
     ]
    }
   ],
   "source": [
    "max_march = np.max(donations[:,2],axis=0)\n",
    "print(\"donator who contributed the most in March:\" , max_march)"
   ]
  },
  {
   "cell_type": "code",
   "execution_count": 19,
   "id": "e6b30eb4-a4bf-4fca-ba1a-77c94a340d90",
   "metadata": {},
   "outputs": [
    {
     "name": "stdout",
     "output_type": "stream",
     "text": [
      "percentage of total donations each donator made:  [24.59016393 11.47540984 22.95081967 40.98360656]\n"
     ]
    }
   ],
   "source": [
    "sum_donations = np.sum(donations[:],axis=1)\n",
    "sum_overall = np.sum(sum_donations)\n",
    "percentage = (sum_donations / sum_overall) * 100\n",
    "print(\"percentage of total donations each donator made: \" , percentage)"
   ]
  },
  {
   "cell_type": "code",
   "execution_count": 21,
   "id": "1cd917e5-39b1-4233-ab5e-96eb37fc1fc8",
   "metadata": {},
   "outputs": [
    {
     "name": "stdout",
     "output_type": "stream",
     "text": [
      "5% increase in all donations and get the updated dataset:\n",
      " [[10.5  15.75 21.  ]\n",
      " [ 5.25  7.35  9.45]\n",
      " [12.6  14.7  16.8 ]\n",
      " [21.   26.25 31.5 ]]\n"
     ]
    }
   ],
   "source": [
    "increase_donations = donations * 1.05\n",
    "print(\"5% increase in all donations and get the updated dataset:\\n\" , increase_donations)"
   ]
  },
  {
   "cell_type": "code",
   "execution_count": 28,
   "id": "ef33551b-75ce-4a21-9265-b4f2d3fcf5ca",
   "metadata": {},
   "outputs": [
    {
     "name": "stdout",
     "output_type": "stream",
     "text": [
      "[12 14 16]\n",
      "Donator3 donated more than ₹13,000 in month indices: [1 2]\n"
     ]
    }
   ],
   "source": [
    "donator3 = donations[2]\n",
    "print(donator3)\n",
    "months = np.where(donator3 > 13)[0]\n",
    "print(\"Donator3 donated more than ₹13,000 in month indices:\", months)"
   ]
  },
  {
   "cell_type": "code",
   "execution_count": 38,
   "id": "622892c6-9b58-4f5d-bc3a-16743be88b5c",
   "metadata": {},
   "outputs": [
    {
     "name": "stdout",
     "output_type": "stream",
     "text": [
      "Normalize the donation data per donator using min-max scaling:\n",
      " [[0.  0.5 1. ]\n",
      " [0.  0.5 1. ]\n",
      " [0.  0.5 1. ]\n",
      " [0.  0.5 1. ]]\n"
     ]
    }
   ],
   "source": [
    "# normalize formula\n",
    "# normalize_donation = (value - min) / (min - max)\n",
    "\n",
    "normalized_donations = (donations - donations.min(axis=1)[:, None]) / (donations.max(axis=1) - donations.min(axis=1))[:, None]\n",
    "print(\"Normalize the donation data per donator using min-max scaling:\\n\" , normalized_donations)"
   ]
  },
  {
   "cell_type": "markdown",
   "id": "541ee954-c73c-4036-b61c-d744e76be0d5",
   "metadata": {},
   "source": [
    "# Hotel Dataset\n",
    "# Hotel\t  Rating \tRooms\tPrice per Night ($)\n",
    "# HotelA   4.2\t    120\t    150\n",
    "# HotelB   3.5\t    200\t    100\n",
    "# HotelC   4.7\t    80\t    250\n",
    "# HotelD   3.9\t    150\t    180\n",
    "# HotelE   4.0\t    90\t    220\n",
    "\n"
   ]
  },
  {
   "cell_type": "markdown",
   "id": "5f488327-af76-422d-8d34-f5bcb6c5f59d",
   "metadata": {},
   "source": [
    "# NumPy Questions for AI/ML Skills\n",
    "1. Array Basics\n",
    "Create a NumPy array for hotel data.\n",
    "\n",
    "2. What is the shape and data type of the array? dtype\n",
    "\n",
    "# 2. Indexing & Slicing\n",
    "3. Retrieve the ratings of all hotels.\n",
    "\n",
    "4. Get the number of rooms in the third hotel.\n",
    "\n",
    "5. Extract only the price column.\n",
    "\n",
    "# 3. Conditional Filtering\n",
    "6. Find hotels with ratings above 4.0.\n",
    "\n",
    "7. How many hotels have more than 100 rooms?\n",
    "\n",
    "8. Get the prices of hotels where rating < 4.0.\n",
    "\n",
    "# 4. Math Operations\n",
    "9. What is the average price of all hotels?\n",
    "\n",
    "10. Find the total number of rooms available.\n",
    "\n",
    "11. Compute the difference between highest and lowest rating.\n",
    "\n",
    "# 5. Aggregation (with axis)\n",
    "12. Calculate the average rating, rooms, and price across all hotels.\n",
    "\n",
    "13. Find the max value for each column.\n",
    "\n",
    "14. Find the sum of ratings for each hotel (row-wise sum).\n",
    "\n",
    "# 6. Normalization & Scaling\n",
    "15. Normalize the price column using min-max scaling.\n",
    "\n",
    "16. Normalize the full dataset column-wise.\n",
    "\n",
    "# 7. Dot Product (optional)\n",
    "17. Multiply each hotel’s data by a weight vector: [0.3, 0.1, 0.6] using np.dot.\n",
    "                       "
   ]
  },
  {
   "cell_type": "code",
   "execution_count": 5,
   "id": "6dab9528-ef05-48b5-bb57-3ff65775bf41",
   "metadata": {},
   "outputs": [
    {
     "name": "stdout",
     "output_type": "stream",
     "text": [
      "[[  4.2 120.  150. ]\n",
      " [  3.5 200.  100. ]\n",
      " [  4.7  80.  250. ]\n",
      " [  3.9 150.  180. ]\n",
      " [  4.   90.  220. ]]\n",
      "shape of the data type are :  (5, 3)\n",
      "Data type of an array :  float64\n"
     ]
    }
   ],
   "source": [
    "# 1 question .\n",
    "\n",
    "# [Rating, Rooms, Price]\n",
    "hotel_data = np.array([\n",
    "    [4.2, 120, 150],  # Hotel A\n",
    "    [3.5, 200, 100],  # Hotel B\n",
    "    [4.7, 80, 250],   # Hotel C\n",
    "    [3.9, 150, 180],  # Hotel D\n",
    "    [4.0, 90, 220]    # Hotel E\n",
    "])\n",
    "print(hotel_data)\n",
    "print(\"shape of the data type are : \" , np.shape(hotel_data))\n",
    "print(\"Data type of an array : \" , hotel_data.dtype)"
   ]
  },
  {
   "cell_type": "code",
   "execution_count": 33,
   "id": "14ef7892-0565-4030-b6f2-3f1495b48729",
   "metadata": {},
   "outputs": [
    {
     "name": "stdout",
     "output_type": "stream",
     "text": [
      "Rating columns :  [4.2 3.5 4.7 3.9 4. ]\n",
      "number of rooms in third hotel :  80.0\n",
      "Price columns :  [150. 100. 250. 180. 220.]\n"
     ]
    }
   ],
   "source": [
    "# 2. questions\n",
    "\n",
    "print(\"Rating columns : \" , hotel_data[:,0])\n",
    "print(\"number of rooms in third hotel : \" , hotel_data[2,1])\n",
    "print(\"Price columns : \" , hotel_data[:,2])"
   ]
  },
  {
   "cell_type": "code",
   "execution_count": 34,
   "id": "dde659d7-e05e-4f6e-a669-695e9ff7de4e",
   "metadata": {},
   "outputs": [
    {
     "name": "stdout",
     "output_type": "stream",
     "text": [
      "hotels with ratings above 4.0 :\n",
      "  [[  4.2 120.  150. ]\n",
      " [  4.7  80.  250. ]]\n",
      "Find the total number of rooms available: 640.0\n",
      "The prices of hotels where rating < 4.0: [100. 180.]\n"
     ]
    }
   ],
   "source": [
    "# 3. questions\n",
    "\n",
    "print(\"hotels with ratings above 4.0 :\\n \" , hotel_data[hotel_data[:,0] > 4.0])\n",
    "print(\"Find the total number of rooms available:\",np.sum(hotel_data[:,1]))\n",
    "print(\"The prices of hotels where rating < 4.0:\",hotel_data[hotel_data[:,0] < 4.0,2])\n",
    "\n"
   ]
  },
  {
   "cell_type": "code",
   "execution_count": 37,
   "id": "0fce29fb-5abf-4425-a55d-5cad5bf3c932",
   "metadata": {},
   "outputs": [
    {
     "name": "stdout",
     "output_type": "stream",
     "text": [
      "The average price of all hotels: 180.0\n",
      "the total number of rooms available :  640.0\n",
      "The difference between highest and lowest rating: 1.2000000000000002\n"
     ]
    }
   ],
   "source": [
    "# 4. questions\n",
    "\n",
    "print(\"The average price of all hotels:\",np.mean(hotel_data[:,2]))\n",
    "print(\"the total number of rooms available : \", np.sum(hotel_data[:,1]))\n",
    "print(\"The difference between highest and lowest rating:\",np.max(hotel_data[:,0]) - np.min(hotel_data[:,0]))"
   ]
  },
  {
   "cell_type": "code",
   "execution_count": 6,
   "id": "55f8851d-2d48-4011-bb01-908ecbe00ed5",
   "metadata": {},
   "outputs": [
    {
     "name": "stdout",
     "output_type": "stream",
     "text": [
      "Average (rating, rooms, price) per hotel: [ 91.4        101.16666667 111.56666667 111.3        104.66666667]\n",
      "Maximum (rating, rooms, price) across all hotels: [  4.7 200.  250. ]\n",
      "Total sum of ratings across all hotels: 20.3\n"
     ]
    }
   ],
   "source": [
    "# 5. question\n",
    "print(\"Average (rating, rooms, price) per hotel:\", np.mean(hotel_data, axis=1))\n",
    "print(\"Maximum (rating, rooms, price) across all hotels:\", np.max(hotel_data, axis=0))\n",
    "print(\"Total sum of ratings across all hotels:\", np.sum(hotel_data[:, 0]))"
   ]
  },
  {
   "cell_type": "code",
   "execution_count": 8,
   "id": "93281c6e-6166-40f8-8bcd-efdcf803893c",
   "metadata": {},
   "outputs": [
    {
     "name": "stdout",
     "output_type": "stream",
     "text": [
      "Normalized price column: \n",
      "  [0.33333333 0.         1.         0.53333333 0.8       ]\n",
      "Normalized hotel data (column-wise):\n",
      " [[0.58333333 0.33333333 0.33333333]\n",
      " [0.         1.         0.        ]\n",
      " [1.         0.         1.        ]\n",
      " [0.33333333 0.58333333 0.53333333]\n",
      " [0.41666667 0.08333333 0.8       ]]\n"
     ]
    }
   ],
   "source": [
    "# 6. question\n",
    "price_column = hotel_data[:, 2]\n",
    "min_price = np.min(price_column)\n",
    "max_price = np.max(price_column)\n",
    "normalized_price = (price_column - min_price) / (max_price - min_price)\n",
    "\n",
    "print(\"Normalized price column: \\n \", normalized_price)\n",
    "\n",
    "min_vals = np.min(hotel_data, axis=0)\n",
    "max_vals = np.max(hotel_data, axis=0)\n",
    "normalized_data = (hotel_data - min_vals) / (max_vals - min_vals)\n",
    "\n",
    "print(\"Normalized hotel data (column-wise):\\n\", normalized_data)"
   ]
  },
  {
   "cell_type": "code",
   "execution_count": 9,
   "id": "a9426e6b-cbfd-43db-8dcf-3820188cedb9",
   "metadata": {},
   "outputs": [
    {
     "name": "stdout",
     "output_type": "stream",
     "text": [
      "Weighted scores for each hotel:\n",
      " [103.26  81.05 159.41 124.17 142.2 ]\n"
     ]
    }
   ],
   "source": [
    "# 7. question\n",
    "\n",
    "weights = np.array([0.3, 0.1, 0.6])\n",
    "weighted_scores = np.dot(hotel_data, weights)\n",
    "print(\"Weighted scores for each hotel:\\n\", weighted_scores)"
   ]
  },
  {
   "cell_type": "code",
   "execution_count": null,
   "id": "67446487-18d1-47a5-9317-54386f10d400",
   "metadata": {},
   "outputs": [],
   "source": []
  }
 ],
 "metadata": {
  "kernelspec": {
   "display_name": "Python 3 (ipykernel)",
   "language": "python",
   "name": "python3"
  },
  "language_info": {
   "codemirror_mode": {
    "name": "ipython",
    "version": 3
   },
   "file_extension": ".py",
   "mimetype": "text/x-python",
   "name": "python",
   "nbconvert_exporter": "python",
   "pygments_lexer": "ipython3",
   "version": "3.12.7"
  }
 },
 "nbformat": 4,
 "nbformat_minor": 5
}
